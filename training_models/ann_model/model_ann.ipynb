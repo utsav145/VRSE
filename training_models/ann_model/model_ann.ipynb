{
  "cells": [
    {
      "cell_type": "markdown",
      "metadata": {
        "id": "gR7-dUgwf_i8"
      },
      "source": [
        "importing libraries"
      ]
    },
    {
      "cell_type": "code",
      "execution_count": null,
      "metadata": {
        "id": "ogc4HIfifeVl"
      },
      "outputs": [],
      "source": [
        "import pandas as pd\n",
        "import numpy as np\n",
        "import tensorflow as tf"
      ]
    },
    {
      "cell_type": "markdown",
      "metadata": {
        "id": "RKq99XpciGMl"
      },
      "source": [
        "data preprocessing"
      ]
    },
    {
      "cell_type": "code",
      "execution_count": null,
      "metadata": {
        "colab": {
          "base_uri": "https://localhost:8080/"
        },
        "id": "AvZ2RrNQa_g8",
        "outputId": "f901e3ed-6b11-423f-afe0-f30b5c552bc0"
      },
      "outputs": [
        {
          "output_type": "stream",
          "name": "stdout",
          "text": [
            "Mounted at /content/drive\n"
          ]
        }
      ],
      "source": [
        "from google.colab import drive\n",
        "drive.mount('/content/drive')"
      ]
    },
    {
      "cell_type": "code",
      "source": [
        "%cd /content/drive/My Drive/Colab Notebooks/ann"
      ],
      "metadata": {
        "colab": {
          "base_uri": "https://localhost:8080/"
        },
        "id": "MhaA4OFn-ddP",
        "outputId": "c1f8911f-3540-4ac7-930f-57baa6bcfdc1"
      },
      "execution_count": null,
      "outputs": [
        {
          "output_type": "stream",
          "name": "stdout",
          "text": [
            "/content/drive/My Drive/Colab Notebooks/ann\n"
          ]
        }
      ]
    },
    {
      "cell_type": "code",
      "execution_count": null,
      "metadata": {
        "id": "HmZT3vsr8TId"
      },
      "outputs": [],
      "source": [
        "def callingfromsheetthroughapi(SAMPLE_SPREADSHEET_ID, SERVICE_ACCOUNT_FILE):\n",
        "  from googleapiclient.discovery import build\n",
        "  from google.oauth2 import service_account\n",
        "  import pandas as pd\n",
        "  SCOPES = ['https://www.googleapis.com/auth/spreadsheets']\n",
        "\n",
        "  creds = None\n",
        "  creds = service_account.Credentials.from_service_account_file(\n",
        "          SERVICE_ACCOUNT_FILE, scopes=SCOPES)\n",
        "\n",
        "  # The ID and range of a sample spreadsheet.\n",
        "  service = build('sheets', 'v4', credentials=creds)\n",
        "\n",
        "  # Call the Sheets API\n",
        "  sheet = service.spreadsheets()\n",
        "  result = sheet.values().get(spreadsheetId=SAMPLE_SPREADSHEET_ID,range='maindataset_2022').execute()\n",
        "  values = result.get('values', [])\n",
        "  dataset = pd.DataFrame(values)\n",
        "  \n",
        "  # modify the function to read from a local csv file \n",
        "  \n",
        "  return dataset\n",
        "\n",
        "df=callingfromsheetthroughapi('1xTxPTnJM6kPVqOeIg6yNL7ktvbpLTgDMXhwZJByq0YY','vrse-preprocessing-3a95b11cc6fd.json')\n"
      ]
    },
    {
      "cell_type": "code",
      "execution_count": null,
      "metadata": {
        "colab": {
          "base_uri": "https://localhost:8080/",
          "height": 206
        },
        "id": "ZF26HuIpLRki",
        "outputId": "a5efc5e7-14da-41f4-a4d7-c72fbaab6a08"
      },
      "outputs": [
        {
          "output_type": "execute_result",
          "data": {
            "text/plain": [
              "       0               1                     2               3            4   \\\n",
              "0  driver     driver_name                  team  laps_completed  pitstop_no.   \n",
              "1       1  Max Verstappen  RED BULL RACING RBPT               1            1   \n",
              "2       1  Max Verstappen  RED BULL RACING RBPT              12            2   \n",
              "3       1  Max Verstappen  RED BULL RACING RBPT              23            3   \n",
              "4       1  Max Verstappen  RED BULL RACING RBPT              39            4   \n",
              "\n",
              "         5          6         7            8           9     10      11  \\\n",
              "0  tyre_age  laps_left  position   race_track  total_laps  year    tyre   \n",
              "1         1         51         1  silverstone          52  2022    soft   \n",
              "2        12         40         1  silverstone          52  2022  medium   \n",
              "3        11         29         6  silverstone          52  2022  medium   \n",
              "4        16         13         8  silverstone          52  2022    hard   \n",
              "\n",
              "             12  \n",
              "0  tyre_changed  \n",
              "1        medium  \n",
              "2        medium  \n",
              "3          hard  \n",
              "4          soft  "
            ],
            "text/html": [
              "\n",
              "  <div id=\"df-90cb8a7d-7272-43f2-9e54-56e54ed1c8d2\">\n",
              "    <div class=\"colab-df-container\">\n",
              "      <div>\n",
              "<style scoped>\n",
              "    .dataframe tbody tr th:only-of-type {\n",
              "        vertical-align: middle;\n",
              "    }\n",
              "\n",
              "    .dataframe tbody tr th {\n",
              "        vertical-align: top;\n",
              "    }\n",
              "\n",
              "    .dataframe thead th {\n",
              "        text-align: right;\n",
              "    }\n",
              "</style>\n",
              "<table border=\"1\" class=\"dataframe\">\n",
              "  <thead>\n",
              "    <tr style=\"text-align: right;\">\n",
              "      <th></th>\n",
              "      <th>0</th>\n",
              "      <th>1</th>\n",
              "      <th>2</th>\n",
              "      <th>3</th>\n",
              "      <th>4</th>\n",
              "      <th>5</th>\n",
              "      <th>6</th>\n",
              "      <th>7</th>\n",
              "      <th>8</th>\n",
              "      <th>9</th>\n",
              "      <th>10</th>\n",
              "      <th>11</th>\n",
              "      <th>12</th>\n",
              "    </tr>\n",
              "  </thead>\n",
              "  <tbody>\n",
              "    <tr>\n",
              "      <th>0</th>\n",
              "      <td>driver</td>\n",
              "      <td>driver_name</td>\n",
              "      <td>team</td>\n",
              "      <td>laps_completed</td>\n",
              "      <td>pitstop_no.</td>\n",
              "      <td>tyre_age</td>\n",
              "      <td>laps_left</td>\n",
              "      <td>position</td>\n",
              "      <td>race_track</td>\n",
              "      <td>total_laps</td>\n",
              "      <td>year</td>\n",
              "      <td>tyre</td>\n",
              "      <td>tyre_changed</td>\n",
              "    </tr>\n",
              "    <tr>\n",
              "      <th>1</th>\n",
              "      <td>1</td>\n",
              "      <td>Max Verstappen</td>\n",
              "      <td>RED BULL RACING RBPT</td>\n",
              "      <td>1</td>\n",
              "      <td>1</td>\n",
              "      <td>1</td>\n",
              "      <td>51</td>\n",
              "      <td>1</td>\n",
              "      <td>silverstone</td>\n",
              "      <td>52</td>\n",
              "      <td>2022</td>\n",
              "      <td>soft</td>\n",
              "      <td>medium</td>\n",
              "    </tr>\n",
              "    <tr>\n",
              "      <th>2</th>\n",
              "      <td>1</td>\n",
              "      <td>Max Verstappen</td>\n",
              "      <td>RED BULL RACING RBPT</td>\n",
              "      <td>12</td>\n",
              "      <td>2</td>\n",
              "      <td>12</td>\n",
              "      <td>40</td>\n",
              "      <td>1</td>\n",
              "      <td>silverstone</td>\n",
              "      <td>52</td>\n",
              "      <td>2022</td>\n",
              "      <td>medium</td>\n",
              "      <td>medium</td>\n",
              "    </tr>\n",
              "    <tr>\n",
              "      <th>3</th>\n",
              "      <td>1</td>\n",
              "      <td>Max Verstappen</td>\n",
              "      <td>RED BULL RACING RBPT</td>\n",
              "      <td>23</td>\n",
              "      <td>3</td>\n",
              "      <td>11</td>\n",
              "      <td>29</td>\n",
              "      <td>6</td>\n",
              "      <td>silverstone</td>\n",
              "      <td>52</td>\n",
              "      <td>2022</td>\n",
              "      <td>medium</td>\n",
              "      <td>hard</td>\n",
              "    </tr>\n",
              "    <tr>\n",
              "      <th>4</th>\n",
              "      <td>1</td>\n",
              "      <td>Max Verstappen</td>\n",
              "      <td>RED BULL RACING RBPT</td>\n",
              "      <td>39</td>\n",
              "      <td>4</td>\n",
              "      <td>16</td>\n",
              "      <td>13</td>\n",
              "      <td>8</td>\n",
              "      <td>silverstone</td>\n",
              "      <td>52</td>\n",
              "      <td>2022</td>\n",
              "      <td>hard</td>\n",
              "      <td>soft</td>\n",
              "    </tr>\n",
              "  </tbody>\n",
              "</table>\n",
              "</div>\n",
              "      <button class=\"colab-df-convert\" onclick=\"convertToInteractive('df-90cb8a7d-7272-43f2-9e54-56e54ed1c8d2')\"\n",
              "              title=\"Convert this dataframe to an interactive table.\"\n",
              "              style=\"display:none;\">\n",
              "        \n",
              "  <svg xmlns=\"http://www.w3.org/2000/svg\" height=\"24px\"viewBox=\"0 0 24 24\"\n",
              "       width=\"24px\">\n",
              "    <path d=\"M0 0h24v24H0V0z\" fill=\"none\"/>\n",
              "    <path d=\"M18.56 5.44l.94 2.06.94-2.06 2.06-.94-2.06-.94-.94-2.06-.94 2.06-2.06.94zm-11 1L8.5 8.5l.94-2.06 2.06-.94-2.06-.94L8.5 2.5l-.94 2.06-2.06.94zm10 10l.94 2.06.94-2.06 2.06-.94-2.06-.94-.94-2.06-.94 2.06-2.06.94z\"/><path d=\"M17.41 7.96l-1.37-1.37c-.4-.4-.92-.59-1.43-.59-.52 0-1.04.2-1.43.59L10.3 9.45l-7.72 7.72c-.78.78-.78 2.05 0 2.83L4 21.41c.39.39.9.59 1.41.59.51 0 1.02-.2 1.41-.59l7.78-7.78 2.81-2.81c.8-.78.8-2.07 0-2.86zM5.41 20L4 18.59l7.72-7.72 1.47 1.35L5.41 20z\"/>\n",
              "  </svg>\n",
              "      </button>\n",
              "      \n",
              "  <style>\n",
              "    .colab-df-container {\n",
              "      display:flex;\n",
              "      flex-wrap:wrap;\n",
              "      gap: 12px;\n",
              "    }\n",
              "\n",
              "    .colab-df-convert {\n",
              "      background-color: #E8F0FE;\n",
              "      border: none;\n",
              "      border-radius: 50%;\n",
              "      cursor: pointer;\n",
              "      display: none;\n",
              "      fill: #1967D2;\n",
              "      height: 32px;\n",
              "      padding: 0 0 0 0;\n",
              "      width: 32px;\n",
              "    }\n",
              "\n",
              "    .colab-df-convert:hover {\n",
              "      background-color: #E2EBFA;\n",
              "      box-shadow: 0px 1px 2px rgba(60, 64, 67, 0.3), 0px 1px 3px 1px rgba(60, 64, 67, 0.15);\n",
              "      fill: #174EA6;\n",
              "    }\n",
              "\n",
              "    [theme=dark] .colab-df-convert {\n",
              "      background-color: #3B4455;\n",
              "      fill: #D2E3FC;\n",
              "    }\n",
              "\n",
              "    [theme=dark] .colab-df-convert:hover {\n",
              "      background-color: #434B5C;\n",
              "      box-shadow: 0px 1px 3px 1px rgba(0, 0, 0, 0.15);\n",
              "      filter: drop-shadow(0px 1px 2px rgba(0, 0, 0, 0.3));\n",
              "      fill: #FFFFFF;\n",
              "    }\n",
              "  </style>\n",
              "\n",
              "      <script>\n",
              "        const buttonEl =\n",
              "          document.querySelector('#df-90cb8a7d-7272-43f2-9e54-56e54ed1c8d2 button.colab-df-convert');\n",
              "        buttonEl.style.display =\n",
              "          google.colab.kernel.accessAllowed ? 'block' : 'none';\n",
              "\n",
              "        async function convertToInteractive(key) {\n",
              "          const element = document.querySelector('#df-90cb8a7d-7272-43f2-9e54-56e54ed1c8d2');\n",
              "          const dataTable =\n",
              "            await google.colab.kernel.invokeFunction('convertToInteractive',\n",
              "                                                     [key], {});\n",
              "          if (!dataTable) return;\n",
              "\n",
              "          const docLinkHtml = 'Like what you see? Visit the ' +\n",
              "            '<a target=\"_blank\" href=https://colab.research.google.com/notebooks/data_table.ipynb>data table notebook</a>'\n",
              "            + ' to learn more about interactive tables.';\n",
              "          element.innerHTML = '';\n",
              "          dataTable['output_type'] = 'display_data';\n",
              "          await google.colab.output.renderOutput(dataTable, element);\n",
              "          const docLink = document.createElement('div');\n",
              "          docLink.innerHTML = docLinkHtml;\n",
              "          element.appendChild(docLink);\n",
              "        }\n",
              "      </script>\n",
              "    </div>\n",
              "  </div>\n",
              "  "
            ]
          },
          "metadata": {},
          "execution_count": 6
        }
      ],
      "source": [
        "df.head()"
      ]
    },
    {
      "cell_type": "code",
      "execution_count": null,
      "metadata": {
        "id": "bKCKTsxDNoZn",
        "colab": {
          "base_uri": "https://localhost:8080/",
          "height": 423
        },
        "outputId": "68e44c7c-d49b-4f35-d373-69f67e7c78ba"
      },
      "outputs": [
        {
          "output_type": "execute_result",
          "data": {
            "text/plain": [
              "     laps_completed pitstop_no. tyre_age laps_left position     race_track  \\\n",
              "1                 1           1        1        51        1    silverstone   \n",
              "2                12           2       12        40        1    silverstone   \n",
              "3                23           3       11        29        6    silverstone   \n",
              "4                39           4       16        13        8    silverstone   \n",
              "5                 5           1        5        47        4    silverstone   \n",
              "...             ...         ...      ...       ...      ...            ...   \n",
              "1829             14           1       14        42        1  united_states   \n",
              "1830             35           2       21        21        1  united_states   \n",
              "1831             11           1       11        45       18  united_states   \n",
              "1832             17           1       17        39       16  united_states   \n",
              "1833             39           2       22        17       16  united_states   \n",
              "\n",
              "     total_laps  year    tyre tyre_changed  \n",
              "1            52  2022    soft       medium  \n",
              "2            52  2022  medium       medium  \n",
              "3            52  2022  medium         hard  \n",
              "4            52  2022    hard         soft  \n",
              "5            52  2022  medium       medium  \n",
              "...         ...   ...     ...          ...  \n",
              "1829         56  2019  medium         hard  \n",
              "1830         56  2019    hard       medium  \n",
              "1831         56  2019  medium         hard  \n",
              "1832         56  2019  medium         hard  \n",
              "1833         56  2019    hard         soft  \n",
              "\n",
              "[1833 rows x 10 columns]"
            ],
            "text/html": [
              "\n",
              "  <div id=\"df-08330fee-ce13-4c5e-b06d-e18d7db65d0a\">\n",
              "    <div class=\"colab-df-container\">\n",
              "      <div>\n",
              "<style scoped>\n",
              "    .dataframe tbody tr th:only-of-type {\n",
              "        vertical-align: middle;\n",
              "    }\n",
              "\n",
              "    .dataframe tbody tr th {\n",
              "        vertical-align: top;\n",
              "    }\n",
              "\n",
              "    .dataframe thead th {\n",
              "        text-align: right;\n",
              "    }\n",
              "</style>\n",
              "<table border=\"1\" class=\"dataframe\">\n",
              "  <thead>\n",
              "    <tr style=\"text-align: right;\">\n",
              "      <th></th>\n",
              "      <th>laps_completed</th>\n",
              "      <th>pitstop_no.</th>\n",
              "      <th>tyre_age</th>\n",
              "      <th>laps_left</th>\n",
              "      <th>position</th>\n",
              "      <th>race_track</th>\n",
              "      <th>total_laps</th>\n",
              "      <th>year</th>\n",
              "      <th>tyre</th>\n",
              "      <th>tyre_changed</th>\n",
              "    </tr>\n",
              "  </thead>\n",
              "  <tbody>\n",
              "    <tr>\n",
              "      <th>1</th>\n",
              "      <td>1</td>\n",
              "      <td>1</td>\n",
              "      <td>1</td>\n",
              "      <td>51</td>\n",
              "      <td>1</td>\n",
              "      <td>silverstone</td>\n",
              "      <td>52</td>\n",
              "      <td>2022</td>\n",
              "      <td>soft</td>\n",
              "      <td>medium</td>\n",
              "    </tr>\n",
              "    <tr>\n",
              "      <th>2</th>\n",
              "      <td>12</td>\n",
              "      <td>2</td>\n",
              "      <td>12</td>\n",
              "      <td>40</td>\n",
              "      <td>1</td>\n",
              "      <td>silverstone</td>\n",
              "      <td>52</td>\n",
              "      <td>2022</td>\n",
              "      <td>medium</td>\n",
              "      <td>medium</td>\n",
              "    </tr>\n",
              "    <tr>\n",
              "      <th>3</th>\n",
              "      <td>23</td>\n",
              "      <td>3</td>\n",
              "      <td>11</td>\n",
              "      <td>29</td>\n",
              "      <td>6</td>\n",
              "      <td>silverstone</td>\n",
              "      <td>52</td>\n",
              "      <td>2022</td>\n",
              "      <td>medium</td>\n",
              "      <td>hard</td>\n",
              "    </tr>\n",
              "    <tr>\n",
              "      <th>4</th>\n",
              "      <td>39</td>\n",
              "      <td>4</td>\n",
              "      <td>16</td>\n",
              "      <td>13</td>\n",
              "      <td>8</td>\n",
              "      <td>silverstone</td>\n",
              "      <td>52</td>\n",
              "      <td>2022</td>\n",
              "      <td>hard</td>\n",
              "      <td>soft</td>\n",
              "    </tr>\n",
              "    <tr>\n",
              "      <th>5</th>\n",
              "      <td>5</td>\n",
              "      <td>1</td>\n",
              "      <td>5</td>\n",
              "      <td>47</td>\n",
              "      <td>4</td>\n",
              "      <td>silverstone</td>\n",
              "      <td>52</td>\n",
              "      <td>2022</td>\n",
              "      <td>medium</td>\n",
              "      <td>medium</td>\n",
              "    </tr>\n",
              "    <tr>\n",
              "      <th>...</th>\n",
              "      <td>...</td>\n",
              "      <td>...</td>\n",
              "      <td>...</td>\n",
              "      <td>...</td>\n",
              "      <td>...</td>\n",
              "      <td>...</td>\n",
              "      <td>...</td>\n",
              "      <td>...</td>\n",
              "      <td>...</td>\n",
              "      <td>...</td>\n",
              "    </tr>\n",
              "    <tr>\n",
              "      <th>1829</th>\n",
              "      <td>14</td>\n",
              "      <td>1</td>\n",
              "      <td>14</td>\n",
              "      <td>42</td>\n",
              "      <td>1</td>\n",
              "      <td>united_states</td>\n",
              "      <td>56</td>\n",
              "      <td>2019</td>\n",
              "      <td>medium</td>\n",
              "      <td>hard</td>\n",
              "    </tr>\n",
              "    <tr>\n",
              "      <th>1830</th>\n",
              "      <td>35</td>\n",
              "      <td>2</td>\n",
              "      <td>21</td>\n",
              "      <td>21</td>\n",
              "      <td>1</td>\n",
              "      <td>united_states</td>\n",
              "      <td>56</td>\n",
              "      <td>2019</td>\n",
              "      <td>hard</td>\n",
              "      <td>medium</td>\n",
              "    </tr>\n",
              "    <tr>\n",
              "      <th>1831</th>\n",
              "      <td>11</td>\n",
              "      <td>1</td>\n",
              "      <td>11</td>\n",
              "      <td>45</td>\n",
              "      <td>18</td>\n",
              "      <td>united_states</td>\n",
              "      <td>56</td>\n",
              "      <td>2019</td>\n",
              "      <td>medium</td>\n",
              "      <td>hard</td>\n",
              "    </tr>\n",
              "    <tr>\n",
              "      <th>1832</th>\n",
              "      <td>17</td>\n",
              "      <td>1</td>\n",
              "      <td>17</td>\n",
              "      <td>39</td>\n",
              "      <td>16</td>\n",
              "      <td>united_states</td>\n",
              "      <td>56</td>\n",
              "      <td>2019</td>\n",
              "      <td>medium</td>\n",
              "      <td>hard</td>\n",
              "    </tr>\n",
              "    <tr>\n",
              "      <th>1833</th>\n",
              "      <td>39</td>\n",
              "      <td>2</td>\n",
              "      <td>22</td>\n",
              "      <td>17</td>\n",
              "      <td>16</td>\n",
              "      <td>united_states</td>\n",
              "      <td>56</td>\n",
              "      <td>2019</td>\n",
              "      <td>hard</td>\n",
              "      <td>soft</td>\n",
              "    </tr>\n",
              "  </tbody>\n",
              "</table>\n",
              "<p>1833 rows × 10 columns</p>\n",
              "</div>\n",
              "      <button class=\"colab-df-convert\" onclick=\"convertToInteractive('df-08330fee-ce13-4c5e-b06d-e18d7db65d0a')\"\n",
              "              title=\"Convert this dataframe to an interactive table.\"\n",
              "              style=\"display:none;\">\n",
              "        \n",
              "  <svg xmlns=\"http://www.w3.org/2000/svg\" height=\"24px\"viewBox=\"0 0 24 24\"\n",
              "       width=\"24px\">\n",
              "    <path d=\"M0 0h24v24H0V0z\" fill=\"none\"/>\n",
              "    <path d=\"M18.56 5.44l.94 2.06.94-2.06 2.06-.94-2.06-.94-.94-2.06-.94 2.06-2.06.94zm-11 1L8.5 8.5l.94-2.06 2.06-.94-2.06-.94L8.5 2.5l-.94 2.06-2.06.94zm10 10l.94 2.06.94-2.06 2.06-.94-2.06-.94-.94-2.06-.94 2.06-2.06.94z\"/><path d=\"M17.41 7.96l-1.37-1.37c-.4-.4-.92-.59-1.43-.59-.52 0-1.04.2-1.43.59L10.3 9.45l-7.72 7.72c-.78.78-.78 2.05 0 2.83L4 21.41c.39.39.9.59 1.41.59.51 0 1.02-.2 1.41-.59l7.78-7.78 2.81-2.81c.8-.78.8-2.07 0-2.86zM5.41 20L4 18.59l7.72-7.72 1.47 1.35L5.41 20z\"/>\n",
              "  </svg>\n",
              "      </button>\n",
              "      \n",
              "  <style>\n",
              "    .colab-df-container {\n",
              "      display:flex;\n",
              "      flex-wrap:wrap;\n",
              "      gap: 12px;\n",
              "    }\n",
              "\n",
              "    .colab-df-convert {\n",
              "      background-color: #E8F0FE;\n",
              "      border: none;\n",
              "      border-radius: 50%;\n",
              "      cursor: pointer;\n",
              "      display: none;\n",
              "      fill: #1967D2;\n",
              "      height: 32px;\n",
              "      padding: 0 0 0 0;\n",
              "      width: 32px;\n",
              "    }\n",
              "\n",
              "    .colab-df-convert:hover {\n",
              "      background-color: #E2EBFA;\n",
              "      box-shadow: 0px 1px 2px rgba(60, 64, 67, 0.3), 0px 1px 3px 1px rgba(60, 64, 67, 0.15);\n",
              "      fill: #174EA6;\n",
              "    }\n",
              "\n",
              "    [theme=dark] .colab-df-convert {\n",
              "      background-color: #3B4455;\n",
              "      fill: #D2E3FC;\n",
              "    }\n",
              "\n",
              "    [theme=dark] .colab-df-convert:hover {\n",
              "      background-color: #434B5C;\n",
              "      box-shadow: 0px 1px 3px 1px rgba(0, 0, 0, 0.15);\n",
              "      filter: drop-shadow(0px 1px 2px rgba(0, 0, 0, 0.3));\n",
              "      fill: #FFFFFF;\n",
              "    }\n",
              "  </style>\n",
              "\n",
              "      <script>\n",
              "        const buttonEl =\n",
              "          document.querySelector('#df-08330fee-ce13-4c5e-b06d-e18d7db65d0a button.colab-df-convert');\n",
              "        buttonEl.style.display =\n",
              "          google.colab.kernel.accessAllowed ? 'block' : 'none';\n",
              "\n",
              "        async function convertToInteractive(key) {\n",
              "          const element = document.querySelector('#df-08330fee-ce13-4c5e-b06d-e18d7db65d0a');\n",
              "          const dataTable =\n",
              "            await google.colab.kernel.invokeFunction('convertToInteractive',\n",
              "                                                     [key], {});\n",
              "          if (!dataTable) return;\n",
              "\n",
              "          const docLinkHtml = 'Like what you see? Visit the ' +\n",
              "            '<a target=\"_blank\" href=https://colab.research.google.com/notebooks/data_table.ipynb>data table notebook</a>'\n",
              "            + ' to learn more about interactive tables.';\n",
              "          element.innerHTML = '';\n",
              "          dataTable['output_type'] = 'display_data';\n",
              "          await google.colab.output.renderOutput(dataTable, element);\n",
              "          const docLink = document.createElement('div');\n",
              "          docLink.innerHTML = docLinkHtml;\n",
              "          element.appendChild(docLink);\n",
              "        }\n",
              "      </script>\n",
              "    </div>\n",
              "  </div>\n",
              "  "
            ]
          },
          "metadata": {},
          "execution_count": 7
        }
      ],
      "source": [
        "dataset=df.iloc[1:,3:]\n",
        "dataset.columns =['laps_completed', 'pitstop_no.', 'tyre_age', 'laps_left', 'position', 'race_track', 'total_laps', 'year', 'tyre', 'tyre_changed']\n",
        "dataset"
      ]
    },
    {
      "cell_type": "markdown",
      "metadata": {
        "id": "XgIfh87aLYVK"
      },
      "source": [
        "one-hot encoding racetrack"
      ]
    },
    {
      "cell_type": "code",
      "execution_count": null,
      "metadata": {
        "id": "UBoTXRT3LYxm",
        "colab": {
          "base_uri": "https://localhost:8080/",
          "height": 423
        },
        "outputId": "9c27cf55-dffe-4db4-8cd3-4304828e24fe"
      },
      "outputs": [
        {
          "output_type": "execute_result",
          "data": {
            "text/plain": [
              "      laps_completed  pitstop_no.  tyre_age  laps_left  position  race_track  \\\n",
              "2                 12            2        12         40         1         0.3   \n",
              "3                 23            3        11         29         6         0.3   \n",
              "4                 39            4        16         13         8         0.3   \n",
              "6                 39            2        34         13         4         0.3   \n",
              "7                 20            1        20         32         1         0.3   \n",
              "...              ...          ...       ...        ...       ...         ...   \n",
              "1829              14            1        14         42         1         0.3   \n",
              "1830              35            2        21         21         1         0.3   \n",
              "1831              11            1        11         45        18         0.3   \n",
              "1832              17            1        17         39        16         0.3   \n",
              "1833              39            2        22         17        16         0.3   \n",
              "\n",
              "      total_laps  year    tyre tyre_changed  \n",
              "2             52  2022  medium       medium  \n",
              "3             52  2022  medium         hard  \n",
              "4             52  2022    hard         soft  \n",
              "6             52  2022  medium         soft  \n",
              "7             52  2022  medium         hard  \n",
              "...          ...   ...     ...          ...  \n",
              "1829          56  2019  medium         hard  \n",
              "1830          56  2019    hard       medium  \n",
              "1831          56  2019  medium         hard  \n",
              "1832          56  2019  medium         hard  \n",
              "1833          56  2019    hard         soft  \n",
              "\n",
              "[1467 rows x 10 columns]"
            ],
            "text/html": [
              "\n",
              "  <div id=\"df-137c1a71-b107-41d3-8332-a25e4cd61e8b\">\n",
              "    <div class=\"colab-df-container\">\n",
              "      <div>\n",
              "<style scoped>\n",
              "    .dataframe tbody tr th:only-of-type {\n",
              "        vertical-align: middle;\n",
              "    }\n",
              "\n",
              "    .dataframe tbody tr th {\n",
              "        vertical-align: top;\n",
              "    }\n",
              "\n",
              "    .dataframe thead th {\n",
              "        text-align: right;\n",
              "    }\n",
              "</style>\n",
              "<table border=\"1\" class=\"dataframe\">\n",
              "  <thead>\n",
              "    <tr style=\"text-align: right;\">\n",
              "      <th></th>\n",
              "      <th>laps_completed</th>\n",
              "      <th>pitstop_no.</th>\n",
              "      <th>tyre_age</th>\n",
              "      <th>laps_left</th>\n",
              "      <th>position</th>\n",
              "      <th>race_track</th>\n",
              "      <th>total_laps</th>\n",
              "      <th>year</th>\n",
              "      <th>tyre</th>\n",
              "      <th>tyre_changed</th>\n",
              "    </tr>\n",
              "  </thead>\n",
              "  <tbody>\n",
              "    <tr>\n",
              "      <th>2</th>\n",
              "      <td>12</td>\n",
              "      <td>2</td>\n",
              "      <td>12</td>\n",
              "      <td>40</td>\n",
              "      <td>1</td>\n",
              "      <td>0.3</td>\n",
              "      <td>52</td>\n",
              "      <td>2022</td>\n",
              "      <td>medium</td>\n",
              "      <td>medium</td>\n",
              "    </tr>\n",
              "    <tr>\n",
              "      <th>3</th>\n",
              "      <td>23</td>\n",
              "      <td>3</td>\n",
              "      <td>11</td>\n",
              "      <td>29</td>\n",
              "      <td>6</td>\n",
              "      <td>0.3</td>\n",
              "      <td>52</td>\n",
              "      <td>2022</td>\n",
              "      <td>medium</td>\n",
              "      <td>hard</td>\n",
              "    </tr>\n",
              "    <tr>\n",
              "      <th>4</th>\n",
              "      <td>39</td>\n",
              "      <td>4</td>\n",
              "      <td>16</td>\n",
              "      <td>13</td>\n",
              "      <td>8</td>\n",
              "      <td>0.3</td>\n",
              "      <td>52</td>\n",
              "      <td>2022</td>\n",
              "      <td>hard</td>\n",
              "      <td>soft</td>\n",
              "    </tr>\n",
              "    <tr>\n",
              "      <th>6</th>\n",
              "      <td>39</td>\n",
              "      <td>2</td>\n",
              "      <td>34</td>\n",
              "      <td>13</td>\n",
              "      <td>4</td>\n",
              "      <td>0.3</td>\n",
              "      <td>52</td>\n",
              "      <td>2022</td>\n",
              "      <td>medium</td>\n",
              "      <td>soft</td>\n",
              "    </tr>\n",
              "    <tr>\n",
              "      <th>7</th>\n",
              "      <td>20</td>\n",
              "      <td>1</td>\n",
              "      <td>20</td>\n",
              "      <td>32</td>\n",
              "      <td>1</td>\n",
              "      <td>0.3</td>\n",
              "      <td>52</td>\n",
              "      <td>2022</td>\n",
              "      <td>medium</td>\n",
              "      <td>hard</td>\n",
              "    </tr>\n",
              "    <tr>\n",
              "      <th>...</th>\n",
              "      <td>...</td>\n",
              "      <td>...</td>\n",
              "      <td>...</td>\n",
              "      <td>...</td>\n",
              "      <td>...</td>\n",
              "      <td>...</td>\n",
              "      <td>...</td>\n",
              "      <td>...</td>\n",
              "      <td>...</td>\n",
              "      <td>...</td>\n",
              "    </tr>\n",
              "    <tr>\n",
              "      <th>1829</th>\n",
              "      <td>14</td>\n",
              "      <td>1</td>\n",
              "      <td>14</td>\n",
              "      <td>42</td>\n",
              "      <td>1</td>\n",
              "      <td>0.3</td>\n",
              "      <td>56</td>\n",
              "      <td>2019</td>\n",
              "      <td>medium</td>\n",
              "      <td>hard</td>\n",
              "    </tr>\n",
              "    <tr>\n",
              "      <th>1830</th>\n",
              "      <td>35</td>\n",
              "      <td>2</td>\n",
              "      <td>21</td>\n",
              "      <td>21</td>\n",
              "      <td>1</td>\n",
              "      <td>0.3</td>\n",
              "      <td>56</td>\n",
              "      <td>2019</td>\n",
              "      <td>hard</td>\n",
              "      <td>medium</td>\n",
              "    </tr>\n",
              "    <tr>\n",
              "      <th>1831</th>\n",
              "      <td>11</td>\n",
              "      <td>1</td>\n",
              "      <td>11</td>\n",
              "      <td>45</td>\n",
              "      <td>18</td>\n",
              "      <td>0.3</td>\n",
              "      <td>56</td>\n",
              "      <td>2019</td>\n",
              "      <td>medium</td>\n",
              "      <td>hard</td>\n",
              "    </tr>\n",
              "    <tr>\n",
              "      <th>1832</th>\n",
              "      <td>17</td>\n",
              "      <td>1</td>\n",
              "      <td>17</td>\n",
              "      <td>39</td>\n",
              "      <td>16</td>\n",
              "      <td>0.3</td>\n",
              "      <td>56</td>\n",
              "      <td>2019</td>\n",
              "      <td>medium</td>\n",
              "      <td>hard</td>\n",
              "    </tr>\n",
              "    <tr>\n",
              "      <th>1833</th>\n",
              "      <td>39</td>\n",
              "      <td>2</td>\n",
              "      <td>22</td>\n",
              "      <td>17</td>\n",
              "      <td>16</td>\n",
              "      <td>0.3</td>\n",
              "      <td>56</td>\n",
              "      <td>2019</td>\n",
              "      <td>hard</td>\n",
              "      <td>soft</td>\n",
              "    </tr>\n",
              "  </tbody>\n",
              "</table>\n",
              "<p>1467 rows × 10 columns</p>\n",
              "</div>\n",
              "      <button class=\"colab-df-convert\" onclick=\"convertToInteractive('df-137c1a71-b107-41d3-8332-a25e4cd61e8b')\"\n",
              "              title=\"Convert this dataframe to an interactive table.\"\n",
              "              style=\"display:none;\">\n",
              "        \n",
              "  <svg xmlns=\"http://www.w3.org/2000/svg\" height=\"24px\"viewBox=\"0 0 24 24\"\n",
              "       width=\"24px\">\n",
              "    <path d=\"M0 0h24v24H0V0z\" fill=\"none\"/>\n",
              "    <path d=\"M18.56 5.44l.94 2.06.94-2.06 2.06-.94-2.06-.94-.94-2.06-.94 2.06-2.06.94zm-11 1L8.5 8.5l.94-2.06 2.06-.94-2.06-.94L8.5 2.5l-.94 2.06-2.06.94zm10 10l.94 2.06.94-2.06 2.06-.94-2.06-.94-.94-2.06-.94 2.06-2.06.94z\"/><path d=\"M17.41 7.96l-1.37-1.37c-.4-.4-.92-.59-1.43-.59-.52 0-1.04.2-1.43.59L10.3 9.45l-7.72 7.72c-.78.78-.78 2.05 0 2.83L4 21.41c.39.39.9.59 1.41.59.51 0 1.02-.2 1.41-.59l7.78-7.78 2.81-2.81c.8-.78.8-2.07 0-2.86zM5.41 20L4 18.59l7.72-7.72 1.47 1.35L5.41 20z\"/>\n",
              "  </svg>\n",
              "      </button>\n",
              "      \n",
              "  <style>\n",
              "    .colab-df-container {\n",
              "      display:flex;\n",
              "      flex-wrap:wrap;\n",
              "      gap: 12px;\n",
              "    }\n",
              "\n",
              "    .colab-df-convert {\n",
              "      background-color: #E8F0FE;\n",
              "      border: none;\n",
              "      border-radius: 50%;\n",
              "      cursor: pointer;\n",
              "      display: none;\n",
              "      fill: #1967D2;\n",
              "      height: 32px;\n",
              "      padding: 0 0 0 0;\n",
              "      width: 32px;\n",
              "    }\n",
              "\n",
              "    .colab-df-convert:hover {\n",
              "      background-color: #E2EBFA;\n",
              "      box-shadow: 0px 1px 2px rgba(60, 64, 67, 0.3), 0px 1px 3px 1px rgba(60, 64, 67, 0.15);\n",
              "      fill: #174EA6;\n",
              "    }\n",
              "\n",
              "    [theme=dark] .colab-df-convert {\n",
              "      background-color: #3B4455;\n",
              "      fill: #D2E3FC;\n",
              "    }\n",
              "\n",
              "    [theme=dark] .colab-df-convert:hover {\n",
              "      background-color: #434B5C;\n",
              "      box-shadow: 0px 1px 3px 1px rgba(0, 0, 0, 0.15);\n",
              "      filter: drop-shadow(0px 1px 2px rgba(0, 0, 0, 0.3));\n",
              "      fill: #FFFFFF;\n",
              "    }\n",
              "  </style>\n",
              "\n",
              "      <script>\n",
              "        const buttonEl =\n",
              "          document.querySelector('#df-137c1a71-b107-41d3-8332-a25e4cd61e8b button.colab-df-convert');\n",
              "        buttonEl.style.display =\n",
              "          google.colab.kernel.accessAllowed ? 'block' : 'none';\n",
              "\n",
              "        async function convertToInteractive(key) {\n",
              "          const element = document.querySelector('#df-137c1a71-b107-41d3-8332-a25e4cd61e8b');\n",
              "          const dataTable =\n",
              "            await google.colab.kernel.invokeFunction('convertToInteractive',\n",
              "                                                     [key], {});\n",
              "          if (!dataTable) return;\n",
              "\n",
              "          const docLinkHtml = 'Like what you see? Visit the ' +\n",
              "            '<a target=\"_blank\" href=https://colab.research.google.com/notebooks/data_table.ipynb>data table notebook</a>'\n",
              "            + ' to learn more about interactive tables.';\n",
              "          element.innerHTML = '';\n",
              "          dataTable['output_type'] = 'display_data';\n",
              "          await google.colab.output.renderOutput(dataTable, element);\n",
              "          const docLink = document.createElement('div');\n",
              "          docLink.innerHTML = docLinkHtml;\n",
              "          element.appendChild(docLink);\n",
              "        }\n",
              "      </script>\n",
              "    </div>\n",
              "  </div>\n",
              "  "
            ]
          },
          "metadata": {},
          "execution_count": 8
        }
      ],
      "source": [
        "\n",
        "dict={\n",
        "    'belgian':0.5,\n",
        "    'silverstone':0.3,\n",
        "    'monza':0.5,\n",
        "    'australian':0.1,\n",
        "    'dutch':0.3,\n",
        "    'austrian':0.2,\n",
        "    'bahrain':0.3,\n",
        "    'austin':0.3,\n",
        "    'canada':0.2,\n",
        "    'miami':0.3,\n",
        "    'hungary':0.3,\n",
        "    'spanish':0.4,\n",
        "    'abu_dhabi':0.3,\n",
        "    'french':0.4,\n",
        "    'united_states':0.3,\n",
        "    'styrian':0.2,\n",
        "    'portuguese':0.4,\n",
        "    'russian':0.2,\n",
        "    'eifel':0.2,\n",
        "    'emilia_romagna':0.5,\n",
        "    'italian':0.5,\n",
        "    'bahrain':0.3,\n",
        "    'tuscany':0.5,\n",
        "    'azerbaijan':0.1,\n",
        "    'saudi_arabian':0.2,\n",
        "    'chinese':0.4,\n",
        "    'japanese':0.5,\n",
        "    'monaco':0.1,\n",
        "    'mexican':0.1,\n",
        "    'brazilian':0.3,\n",
        "    'singapore':0.2\n",
        "}\n",
        "\n",
        "for racetrack,val in dict.items():\n",
        "  dataset.replace(racetrack,val,inplace=True)\n",
        "\n",
        "  \n",
        "\n",
        "convert_dict = {\n",
        "                'laps_completed':int, \n",
        "                'pitstop_no.':int, \n",
        "                'tyre_age':int, \n",
        "                'laps_left':int, \n",
        "                'position':int, \n",
        "                'race_track':float, \n",
        "                'total_laps':int, \n",
        "                'year':int, \n",
        "                # 'tyre':int, \n",
        "                # 'tyre_changed':int\n",
        "                }\n",
        "  \n",
        "dataset = dataset.astype(convert_dict)\n",
        "\n",
        "dataset=dataset[dataset['tyre_age'] > 9]\n",
        "\n",
        "#removing all pitstops made after 80% of a race as it is very unlikely that a pitstop is made after that \n",
        "def completion(dataset,completion):\n",
        "    dataset = dataset[(dataset['laps_completed']) < (completion/100*(dataset['total_laps']))]\n",
        "    return dataset\n",
        "\n",
        "dataset=completion(dataset,80)\n",
        "dataset"
      ]
    },
    {
      "cell_type": "code",
      "execution_count": null,
      "metadata": {
        "id": "6EjKG0Tmubxx"
      },
      "outputs": [],
      "source": [
        "from sklearn.compose import ColumnTransformer\n",
        "from sklearn.preprocessing import OneHotEncoder\n",
        "ct=ColumnTransformer(transformers=[('encoder', OneHotEncoder(), [-2])], remainder='passthrough')\n",
        "dataset=np.array(ct.fit_transform(dataset))"
      ]
    },
    {
      "cell_type": "code",
      "execution_count": null,
      "metadata": {
        "id": "J0tIZOG41Oyt"
      },
      "outputs": [],
      "source": [
        "ct=ColumnTransformer(transformers=[('encoder', OneHotEncoder(), [-1])], remainder='passthrough')\n",
        "dataset=np.array(ct.fit_transform(dataset))"
      ]
    },
    {
      "cell_type": "code",
      "execution_count": null,
      "metadata": {
        "colab": {
          "base_uri": "https://localhost:8080/"
        },
        "id": "U9F0fGu-yFP1",
        "outputId": "7ba600c1-bc56-4449-e36c-667f514dc31e"
      },
      "outputs": [
        {
          "output_type": "execute_result",
          "data": {
            "text/plain": [
              "array([[0.0, 1.0, 0.0, ..., 0.3, 52, 2022],\n",
              "       [1.0, 0.0, 0.0, ..., 0.3, 52, 2022],\n",
              "       [0.0, 0.0, 1.0, ..., 0.3, 52, 2022],\n",
              "       ...,\n",
              "       [1.0, 0.0, 0.0, ..., 0.3, 56, 2019],\n",
              "       [1.0, 0.0, 0.0, ..., 0.3, 56, 2019],\n",
              "       [0.0, 0.0, 1.0, ..., 0.3, 56, 2019]], dtype=object)"
            ]
          },
          "metadata": {},
          "execution_count": 11
        }
      ],
      "source": [
        "dataset"
      ]
    },
    {
      "cell_type": "code",
      "execution_count": null,
      "metadata": {
        "colab": {
          "base_uri": "https://localhost:8080/"
        },
        "id": "9wrsVBtQ1SIL",
        "outputId": "988b089d-da70-43a8-f80a-e6d68573d2a3"
      },
      "outputs": [
        {
          "output_type": "execute_result",
          "data": {
            "text/plain": [
              "array([[0.000e+00, 1.000e+00, 0.000e+00, 0.000e+00, 1.000e+00, 0.000e+00,\n",
              "        1.200e+01, 2.000e+00, 1.200e+01, 4.000e+01, 1.000e+00, 3.000e-01,\n",
              "        5.200e+01, 2.022e+03],\n",
              "       [1.000e+00, 0.000e+00, 0.000e+00, 0.000e+00, 1.000e+00, 0.000e+00,\n",
              "        2.300e+01, 3.000e+00, 1.100e+01, 2.900e+01, 6.000e+00, 3.000e-01,\n",
              "        5.200e+01, 2.022e+03],\n",
              "       [0.000e+00, 0.000e+00, 1.000e+00, 1.000e+00, 0.000e+00, 0.000e+00,\n",
              "        3.900e+01, 4.000e+00, 1.600e+01, 1.300e+01, 8.000e+00, 3.000e-01,\n",
              "        5.200e+01, 2.022e+03],\n",
              "       [0.000e+00, 0.000e+00, 1.000e+00, 0.000e+00, 1.000e+00, 0.000e+00,\n",
              "        3.900e+01, 2.000e+00, 3.400e+01, 1.300e+01, 4.000e+00, 3.000e-01,\n",
              "        5.200e+01, 2.022e+03],\n",
              "       [1.000e+00, 0.000e+00, 0.000e+00, 0.000e+00, 1.000e+00, 0.000e+00,\n",
              "        2.000e+01, 1.000e+00, 2.000e+01, 3.200e+01, 1.000e+00, 3.000e-01,\n",
              "        5.200e+01, 2.022e+03]], dtype=float32)"
            ]
          },
          "metadata": {},
          "execution_count": 12
        }
      ],
      "source": [
        "dataset = np.asarray(dataset).astype('float32')\n",
        "\n",
        "dataset[:5,:]\n"
      ]
    },
    {
      "cell_type": "markdown",
      "metadata": {
        "id": "A6UZ6HqHigiV"
      },
      "source": [
        "data encoding- next tire values(output/independent variable)"
      ]
    },
    {
      "cell_type": "code",
      "execution_count": null,
      "metadata": {
        "id": "bQqZttS31_3g"
      },
      "outputs": [],
      "source": [
        "X = dataset[:, 3:]\n",
        "y = dataset[:, :3]"
      ]
    },
    {
      "cell_type": "code",
      "execution_count": null,
      "metadata": {
        "colab": {
          "base_uri": "https://localhost:8080/"
        },
        "id": "r382aCg75toa",
        "outputId": "1d82246b-9f2f-4659-ddf7-b720919a87c2"
      },
      "outputs": [
        {
          "output_type": "execute_result",
          "data": {
            "text/plain": [
              "array([[0.000e+00, 1.000e+00, 0.000e+00, ..., 3.000e-01, 5.200e+01,\n",
              "        2.022e+03],\n",
              "       [0.000e+00, 1.000e+00, 0.000e+00, ..., 3.000e-01, 5.200e+01,\n",
              "        2.022e+03],\n",
              "       [1.000e+00, 0.000e+00, 0.000e+00, ..., 3.000e-01, 5.200e+01,\n",
              "        2.022e+03],\n",
              "       ...,\n",
              "       [0.000e+00, 1.000e+00, 0.000e+00, ..., 3.000e-01, 5.600e+01,\n",
              "        2.019e+03],\n",
              "       [0.000e+00, 1.000e+00, 0.000e+00, ..., 3.000e-01, 5.600e+01,\n",
              "        2.019e+03],\n",
              "       [1.000e+00, 0.000e+00, 0.000e+00, ..., 3.000e-01, 5.600e+01,\n",
              "        2.019e+03]], dtype=float32)"
            ]
          },
          "metadata": {},
          "execution_count": 14
        }
      ],
      "source": [
        "X"
      ]
    },
    {
      "cell_type": "code",
      "execution_count": null,
      "metadata": {
        "colab": {
          "base_uri": "https://localhost:8080/"
        },
        "id": "8wJot_0F5uwz",
        "outputId": "9e0e0ad4-348c-4a10-80bd-ecab0777e625"
      },
      "outputs": [
        {
          "output_type": "execute_result",
          "data": {
            "text/plain": [
              "array([[0., 1., 0.],\n",
              "       [1., 0., 0.],\n",
              "       [0., 0., 1.],\n",
              "       ...,\n",
              "       [1., 0., 0.],\n",
              "       [1., 0., 0.],\n",
              "       [0., 0., 1.]], dtype=float32)"
            ]
          },
          "metadata": {},
          "execution_count": 15
        }
      ],
      "source": [
        "y"
      ]
    },
    {
      "cell_type": "markdown",
      "metadata": {
        "id": "QjnKFIL-h-94"
      },
      "source": [
        "splitting the dataset into training and testing"
      ]
    },
    {
      "cell_type": "code",
      "execution_count": null,
      "metadata": {
        "id": "e0Imsf_ginIJ"
      },
      "outputs": [],
      "source": [
        "from sklearn.model_selection import train_test_split\n",
        "X_train, X_test, y_train, y_test = train_test_split(X, y, test_size = 0.30, random_state = 32)"
      ]
    },
    {
      "cell_type": "code",
      "execution_count": null,
      "metadata": {
        "colab": {
          "base_uri": "https://localhost:8080/"
        },
        "id": "NENZI68mZnZN",
        "outputId": "2be4ff02-72ea-4e1e-b4ef-8c1faf46647f"
      },
      "outputs": [
        {
          "output_type": "execute_result",
          "data": {
            "text/plain": [
              "array([1.000e+00, 0.000e+00, 0.000e+00, 2.000e+01, 2.000e+00, 1.900e+01,\n",
              "       3.700e+01, 1.600e+01, 3.000e-01, 5.700e+01, 2.021e+03],\n",
              "      dtype=float32)"
            ]
          },
          "metadata": {},
          "execution_count": 17
        }
      ],
      "source": [
        "X_train[0]"
      ]
    },
    {
      "cell_type": "code",
      "source": [],
      "metadata": {
        "id": "4fRJubpeeENy"
      },
      "execution_count": null,
      "outputs": []
    },
    {
      "cell_type": "markdown",
      "metadata": {
        "id": "OE18ZVkVM0Aq"
      },
      "source": [
        "feature scaling for normalization"
      ]
    },
    {
      "cell_type": "code",
      "execution_count": null,
      "metadata": {
        "id": "-Ctklx_vix5-"
      },
      "outputs": [],
      "source": [
        "from sklearn.preprocessing import StandardScaler\n",
        "sc = StandardScaler()\n",
        "X_train = sc.fit_transform(X_train)\n",
        "X_test = sc.transform(X_test)"
      ]
    },
    {
      "cell_type": "markdown",
      "metadata": {
        "id": "GythBlb_kE90"
      },
      "source": [
        "artificial neural network"
      ]
    },
    {
      "cell_type": "markdown",
      "metadata": {
        "id": "VAR4c3kFkZOb"
      },
      "source": [
        "initialization of ann"
      ]
    },
    {
      "cell_type": "code",
      "execution_count": null,
      "metadata": {
        "id": "htuHuLZkkRX5"
      },
      "outputs": [],
      "source": [
        "#vrse created as a neural network which is an instance of the sequential class\n",
        "from keras.layers import Dropout\n",
        "vrse = tf.keras.models.Sequential()"
      ]
    },
    {
      "cell_type": "markdown",
      "metadata": {
        "id": "XhS-1V1ikcMU"
      },
      "source": [
        "adding the input and hidden layer"
      ]
    },
    {
      "cell_type": "code",
      "execution_count": null,
      "metadata": {
        "id": "haH7iQFhkfRd"
      },
      "outputs": [],
      "source": [
        "vrse.add(tf.keras.layers.Dense(units=512, activation='relu'))"
      ]
    },
    {
      "cell_type": "markdown",
      "source": [
        "adding a dropout layer 20%"
      ],
      "metadata": {
        "id": "D63M1VIwX73g"
      }
    },
    {
      "cell_type": "code",
      "source": [
        "vrse.add(Dropout(0.2))"
      ],
      "metadata": {
        "id": "lSSJ7xmIX4vq"
      },
      "execution_count": null,
      "outputs": []
    },
    {
      "cell_type": "markdown",
      "source": [
        "adding second hidden layer"
      ],
      "metadata": {
        "id": "G7ATfme5T5Xk"
      }
    },
    {
      "cell_type": "code",
      "source": [
        "vrse.add(tf.keras.layers.Dense(units=256, activation='relu'))"
      ],
      "metadata": {
        "id": "D82gEX8PTo_v"
      },
      "execution_count": null,
      "outputs": []
    },
    {
      "cell_type": "code",
      "source": [
        "vrse.add(Dropout(0.2))"
      ],
      "metadata": {
        "id": "4wivlNAbZ7oX"
      },
      "execution_count": null,
      "outputs": []
    },
    {
      "cell_type": "code",
      "source": [
        "vrse.add(tf.keras.layers.Dense(units=128, activation='relu'))"
      ],
      "metadata": {
        "id": "NEu8uMhmYzyl"
      },
      "execution_count": null,
      "outputs": []
    },
    {
      "cell_type": "code",
      "source": [
        "vrse.add(Dropout(0.2))"
      ],
      "metadata": {
        "id": "QUlXBlBQZ8R9"
      },
      "execution_count": null,
      "outputs": []
    },
    {
      "cell_type": "code",
      "source": [
        "vrse.add(tf.keras.layers.Dense(units=64, activation='relu'))"
      ],
      "metadata": {
        "id": "QKC3S2-DZG-G"
      },
      "execution_count": null,
      "outputs": []
    },
    {
      "cell_type": "code",
      "source": [
        "vrse.add(Dropout(0.2))"
      ],
      "metadata": {
        "id": "tKj9ovg3mBr2"
      },
      "execution_count": null,
      "outputs": []
    },
    {
      "cell_type": "code",
      "source": [
        "vrse.add(tf.keras.layers.Dense(units=32, activation='relu'))"
      ],
      "metadata": {
        "id": "jBVWvPlnmC0z"
      },
      "execution_count": null,
      "outputs": []
    },
    {
      "cell_type": "code",
      "source": [
        "vrse.add(Dropout(0.2))"
      ],
      "metadata": {
        "id": "o4KYUNOBnKG_"
      },
      "execution_count": null,
      "outputs": []
    },
    {
      "cell_type": "code",
      "source": [
        "vrse.add(tf.keras.layers.Dense(units=16, activation='relu'))"
      ],
      "metadata": {
        "id": "y_RGg67xnJfU"
      },
      "execution_count": null,
      "outputs": []
    },
    {
      "cell_type": "code",
      "source": [],
      "metadata": {
        "id": "JkoAWl37nJJm"
      },
      "execution_count": null,
      "outputs": []
    },
    {
      "cell_type": "markdown",
      "metadata": {
        "id": "4PwMJMXak0TS"
      },
      "source": [
        "Adding the output layer"
      ]
    },
    {
      "cell_type": "code",
      "execution_count": null,
      "metadata": {
        "id": "PsM3jb6hk3TD"
      },
      "outputs": [],
      "source": [
        "vrse.add(tf.keras.layers.Dense(units=3, activation='sigmoid'))"
      ]
    },
    {
      "cell_type": "markdown",
      "metadata": {
        "id": "j2PbpR_ilOz_"
      },
      "source": [
        "training the neural network"
      ]
    },
    {
      "cell_type": "markdown",
      "metadata": {
        "id": "nXqHgcMZlego"
      },
      "source": [
        "compiling the neural network"
      ]
    },
    {
      "cell_type": "code",
      "execution_count": null,
      "metadata": {
        "id": "2stwd4u2lcPw"
      },
      "outputs": [],
      "source": [
        "# adam optimizer chosen to perform stochastic gradient descent\n",
        "# categorical_crossentropy chosen as loss function to compute difference between real and predicted for binary outcomes\n",
        "vrse.compile(optimizer='adam', loss='categorical_crossentropy', metrics=['accuracy'])"
      ]
    },
    {
      "cell_type": "markdown",
      "metadata": {
        "id": "DDfqZt9KqiEa"
      },
      "source": [
        "training with training set"
      ]
    },
    {
      "cell_type": "code",
      "execution_count": null,
      "metadata": {
        "id": "qLLqxdBmql53",
        "colab": {
          "base_uri": "https://localhost:8080/"
        },
        "outputId": "f8a10220-169e-4b8a-83a6-d91fe1fc2a55"
      },
      "outputs": [
        {
          "output_type": "stream",
          "name": "stdout",
          "text": [
            "Epoch 1/90\n",
            "33/33 [==============================] - 2s 8ms/step - loss: 0.9822 - accuracy: 0.5448\n",
            "Epoch 2/90\n",
            "33/33 [==============================] - 0s 9ms/step - loss: 0.8259 - accuracy: 0.6657\n",
            "Epoch 3/90\n",
            "33/33 [==============================] - 0s 8ms/step - loss: 0.7647 - accuracy: 0.6881\n",
            "Epoch 4/90\n",
            "33/33 [==============================] - 0s 8ms/step - loss: 0.7574 - accuracy: 0.6949\n",
            "Epoch 5/90\n",
            "33/33 [==============================] - 0s 8ms/step - loss: 0.7108 - accuracy: 0.7164\n",
            "Epoch 6/90\n",
            "33/33 [==============================] - 0s 8ms/step - loss: 0.6791 - accuracy: 0.7456\n",
            "Epoch 7/90\n",
            "33/33 [==============================] - 0s 9ms/step - loss: 0.6733 - accuracy: 0.7251\n",
            "Epoch 8/90\n",
            "33/33 [==============================] - 0s 8ms/step - loss: 0.6630 - accuracy: 0.7339\n",
            "Epoch 9/90\n",
            "33/33 [==============================] - 0s 8ms/step - loss: 0.6355 - accuracy: 0.7281\n",
            "Epoch 10/90\n",
            "33/33 [==============================] - 0s 9ms/step - loss: 0.6025 - accuracy: 0.7544\n",
            "Epoch 11/90\n",
            "33/33 [==============================] - 0s 8ms/step - loss: 0.5905 - accuracy: 0.7661\n",
            "Epoch 12/90\n",
            "33/33 [==============================] - 0s 8ms/step - loss: 0.5965 - accuracy: 0.7515\n",
            "Epoch 13/90\n",
            "33/33 [==============================] - 0s 7ms/step - loss: 0.5559 - accuracy: 0.7602\n",
            "Epoch 14/90\n",
            "33/33 [==============================] - 0s 8ms/step - loss: 0.5567 - accuracy: 0.7749\n",
            "Epoch 15/90\n",
            "33/33 [==============================] - 0s 8ms/step - loss: 0.5304 - accuracy: 0.7817\n",
            "Epoch 16/90\n",
            "33/33 [==============================] - 0s 8ms/step - loss: 0.5157 - accuracy: 0.7943\n",
            "Epoch 17/90\n",
            "33/33 [==============================] - 0s 8ms/step - loss: 0.5050 - accuracy: 0.7924\n",
            "Epoch 18/90\n",
            "33/33 [==============================] - 0s 8ms/step - loss: 0.5484 - accuracy: 0.7739\n",
            "Epoch 19/90\n",
            "33/33 [==============================] - 0s 12ms/step - loss: 0.5201 - accuracy: 0.7817\n",
            "Epoch 20/90\n",
            "33/33 [==============================] - 0s 12ms/step - loss: 0.4696 - accuracy: 0.8197\n",
            "Epoch 21/90\n",
            "33/33 [==============================] - 0s 12ms/step - loss: 0.4926 - accuracy: 0.7895\n",
            "Epoch 22/90\n",
            "33/33 [==============================] - 0s 12ms/step - loss: 0.5305 - accuracy: 0.7661\n",
            "Epoch 23/90\n",
            "33/33 [==============================] - 0s 13ms/step - loss: 0.4760 - accuracy: 0.8070\n",
            "Epoch 24/90\n",
            "33/33 [==============================] - 0s 12ms/step - loss: 0.4944 - accuracy: 0.7973\n",
            "Epoch 25/90\n",
            "33/33 [==============================] - 0s 11ms/step - loss: 0.4738 - accuracy: 0.8090\n",
            "Epoch 26/90\n",
            "33/33 [==============================] - 0s 13ms/step - loss: 0.4404 - accuracy: 0.8060\n",
            "Epoch 27/90\n",
            "33/33 [==============================] - 0s 12ms/step - loss: 0.4375 - accuracy: 0.8129\n",
            "Epoch 28/90\n",
            "33/33 [==============================] - 0s 12ms/step - loss: 0.4681 - accuracy: 0.8031\n",
            "Epoch 29/90\n",
            "33/33 [==============================] - 0s 13ms/step - loss: 0.4250 - accuracy: 0.8119\n",
            "Epoch 30/90\n",
            "33/33 [==============================] - 0s 12ms/step - loss: 0.4134 - accuracy: 0.8255\n",
            "Epoch 31/90\n",
            "33/33 [==============================] - 0s 10ms/step - loss: 0.4091 - accuracy: 0.8255\n",
            "Epoch 32/90\n",
            "33/33 [==============================] - 0s 8ms/step - loss: 0.4445 - accuracy: 0.8060\n",
            "Epoch 33/90\n",
            "33/33 [==============================] - 0s 8ms/step - loss: 0.4065 - accuracy: 0.8207\n",
            "Epoch 34/90\n",
            "33/33 [==============================] - 0s 8ms/step - loss: 0.4171 - accuracy: 0.8177\n",
            "Epoch 35/90\n",
            "33/33 [==============================] - 0s 8ms/step - loss: 0.4302 - accuracy: 0.8129\n",
            "Epoch 36/90\n",
            "33/33 [==============================] - 0s 8ms/step - loss: 0.3963 - accuracy: 0.8246\n",
            "Epoch 37/90\n",
            "33/33 [==============================] - 0s 8ms/step - loss: 0.3669 - accuracy: 0.8363\n",
            "Epoch 38/90\n",
            "33/33 [==============================] - 0s 9ms/step - loss: 0.3818 - accuracy: 0.8314\n",
            "Epoch 39/90\n",
            "33/33 [==============================] - 0s 8ms/step - loss: 0.3804 - accuracy: 0.8363\n",
            "Epoch 40/90\n",
            "33/33 [==============================] - 0s 8ms/step - loss: 0.3965 - accuracy: 0.8304\n",
            "Epoch 41/90\n",
            "33/33 [==============================] - 0s 8ms/step - loss: 0.3568 - accuracy: 0.8392\n",
            "Epoch 42/90\n",
            "33/33 [==============================] - 0s 9ms/step - loss: 0.3473 - accuracy: 0.8450\n",
            "Epoch 43/90\n",
            "33/33 [==============================] - 0s 8ms/step - loss: 0.3596 - accuracy: 0.8441\n",
            "Epoch 44/90\n",
            "33/33 [==============================] - 0s 8ms/step - loss: 0.3543 - accuracy: 0.8460\n",
            "Epoch 45/90\n",
            "33/33 [==============================] - 0s 8ms/step - loss: 0.3720 - accuracy: 0.8402\n",
            "Epoch 46/90\n",
            "33/33 [==============================] - 0s 9ms/step - loss: 0.3529 - accuracy: 0.8616\n",
            "Epoch 47/90\n",
            "33/33 [==============================] - 0s 8ms/step - loss: 0.3292 - accuracy: 0.8587\n",
            "Epoch 48/90\n",
            "33/33 [==============================] - 0s 8ms/step - loss: 0.3448 - accuracy: 0.8470\n",
            "Epoch 49/90\n",
            "33/33 [==============================] - 0s 8ms/step - loss: 0.3473 - accuracy: 0.8470\n",
            "Epoch 50/90\n",
            "33/33 [==============================] - 0s 8ms/step - loss: 0.3607 - accuracy: 0.8567\n",
            "Epoch 51/90\n",
            "33/33 [==============================] - 0s 8ms/step - loss: 0.3288 - accuracy: 0.8509\n",
            "Epoch 52/90\n",
            "33/33 [==============================] - 0s 8ms/step - loss: 0.3201 - accuracy: 0.8635\n",
            "Epoch 53/90\n",
            "33/33 [==============================] - 0s 8ms/step - loss: 0.3457 - accuracy: 0.8499\n",
            "Epoch 54/90\n",
            "33/33 [==============================] - 0s 8ms/step - loss: 0.3328 - accuracy: 0.8558\n",
            "Epoch 55/90\n",
            "33/33 [==============================] - 0s 8ms/step - loss: 0.3141 - accuracy: 0.8704\n",
            "Epoch 56/90\n",
            "33/33 [==============================] - 0s 8ms/step - loss: 0.3142 - accuracy: 0.8762\n",
            "Epoch 57/90\n",
            "33/33 [==============================] - 0s 8ms/step - loss: 0.2912 - accuracy: 0.8704\n",
            "Epoch 58/90\n",
            "33/33 [==============================] - 0s 8ms/step - loss: 0.2960 - accuracy: 0.8704\n",
            "Epoch 59/90\n",
            "33/33 [==============================] - 0s 8ms/step - loss: 0.3438 - accuracy: 0.8558\n",
            "Epoch 60/90\n",
            "33/33 [==============================] - 0s 8ms/step - loss: 0.2989 - accuracy: 0.8665\n",
            "Epoch 61/90\n",
            "33/33 [==============================] - 0s 9ms/step - loss: 0.3006 - accuracy: 0.8626\n",
            "Epoch 62/90\n",
            "33/33 [==============================] - 0s 8ms/step - loss: 0.3134 - accuracy: 0.8626\n",
            "Epoch 63/90\n",
            "33/33 [==============================] - 0s 8ms/step - loss: 0.2999 - accuracy: 0.8752\n",
            "Epoch 64/90\n",
            "33/33 [==============================] - 0s 9ms/step - loss: 0.2753 - accuracy: 0.8811\n",
            "Epoch 65/90\n",
            "33/33 [==============================] - 0s 9ms/step - loss: 0.2779 - accuracy: 0.8918\n",
            "Epoch 66/90\n",
            "33/33 [==============================] - 0s 8ms/step - loss: 0.2699 - accuracy: 0.8821\n",
            "Epoch 67/90\n",
            "33/33 [==============================] - 0s 11ms/step - loss: 0.2798 - accuracy: 0.8723\n",
            "Epoch 68/90\n",
            "33/33 [==============================] - 0s 12ms/step - loss: 0.2451 - accuracy: 0.8977\n",
            "Epoch 69/90\n",
            "33/33 [==============================] - 0s 11ms/step - loss: 0.2869 - accuracy: 0.8830\n",
            "Epoch 70/90\n",
            "33/33 [==============================] - 0s 11ms/step - loss: 0.2673 - accuracy: 0.8918\n",
            "Epoch 71/90\n",
            "33/33 [==============================] - 1s 15ms/step - loss: 0.2613 - accuracy: 0.8821\n",
            "Epoch 72/90\n",
            "33/33 [==============================] - 0s 14ms/step - loss: 0.2519 - accuracy: 0.8850\n",
            "Epoch 73/90\n",
            "33/33 [==============================] - 0s 14ms/step - loss: 0.2800 - accuracy: 0.8762\n",
            "Epoch 74/90\n",
            "33/33 [==============================] - 0s 14ms/step - loss: 0.3241 - accuracy: 0.8704\n",
            "Epoch 75/90\n",
            "33/33 [==============================] - 0s 14ms/step - loss: 0.2666 - accuracy: 0.8860\n",
            "Epoch 76/90\n",
            "33/33 [==============================] - 0s 15ms/step - loss: 0.2858 - accuracy: 0.8840\n",
            "Epoch 77/90\n",
            "33/33 [==============================] - 1s 15ms/step - loss: 0.2479 - accuracy: 0.9025\n",
            "Epoch 78/90\n",
            "33/33 [==============================] - 0s 12ms/step - loss: 0.2452 - accuracy: 0.8967\n",
            "Epoch 79/90\n",
            "33/33 [==============================] - 0s 11ms/step - loss: 0.2562 - accuracy: 0.8879\n",
            "Epoch 80/90\n",
            "33/33 [==============================] - 0s 11ms/step - loss: 0.2559 - accuracy: 0.8947\n",
            "Epoch 81/90\n",
            "33/33 [==============================] - 0s 12ms/step - loss: 0.2295 - accuracy: 0.9035\n",
            "Epoch 82/90\n",
            "33/33 [==============================] - 0s 11ms/step - loss: 0.2466 - accuracy: 0.8967\n",
            "Epoch 83/90\n",
            "33/33 [==============================] - 0s 8ms/step - loss: 0.2894 - accuracy: 0.8860\n",
            "Epoch 84/90\n",
            "33/33 [==============================] - 0s 8ms/step - loss: 0.2668 - accuracy: 0.8782\n",
            "Epoch 85/90\n",
            "33/33 [==============================] - 0s 8ms/step - loss: 0.2494 - accuracy: 0.8908\n",
            "Epoch 86/90\n",
            "33/33 [==============================] - 0s 8ms/step - loss: 0.2281 - accuracy: 0.8899\n",
            "Epoch 87/90\n",
            "33/33 [==============================] - 0s 8ms/step - loss: 0.2381 - accuracy: 0.8977\n",
            "Epoch 88/90\n",
            "33/33 [==============================] - 0s 8ms/step - loss: 0.2399 - accuracy: 0.8957\n",
            "Epoch 89/90\n",
            "33/33 [==============================] - 0s 8ms/step - loss: 0.2265 - accuracy: 0.9045\n",
            "Epoch 90/90\n",
            "33/33 [==============================] - 0s 8ms/step - loss: 0.2306 - accuracy: 0.9006\n"
          ]
        },
        {
          "output_type": "execute_result",
          "data": {
            "text/plain": [
              "<keras.callbacks.History at 0x7f4034243f40>"
            ]
          },
          "metadata": {},
          "execution_count": 33
        }
      ],
      "source": [
        "vrse.fit(X_train, y_train, batch_size=32, epochs=90)"
      ]
    },
    {
      "cell_type": "markdown",
      "metadata": {
        "id": "vvMzUTcerl5q"
      },
      "source": [
        "testing "
      ]
    },
    {
      "cell_type": "code",
      "execution_count": null,
      "metadata": {
        "colab": {
          "base_uri": "https://localhost:8080/"
        },
        "id": "DthEP4k0rn58",
        "outputId": "e09633b7-5c75-47cf-e1e0-956000aeae67"
      },
      "outputs": [
        {
          "output_type": "stream",
          "name": "stdout",
          "text": [
            "14/14 [==============================] - 0s 7ms/step\n"
          ]
        }
      ],
      "source": [
        "y_pred=(vrse.predict(X_test))\n",
        "for i in y_pred:\n",
        "  i[i == max(i)] = 1\n",
        "  i[i<1] = 0"
      ]
    },
    {
      "cell_type": "code",
      "execution_count": null,
      "metadata": {
        "id": "CIdXHBYj2Ivr",
        "colab": {
          "base_uri": "https://localhost:8080/"
        },
        "outputId": "f679e00e-9de0-415e-a256-a1c4fbb9eb19"
      },
      "outputs": [
        {
          "output_type": "execute_result",
          "data": {
            "text/plain": [
              "array([[1., 0., 0.],\n",
              "       [0., 0., 1.],\n",
              "       [0., 0., 1.],\n",
              "       ...,\n",
              "       [1., 0., 0.],\n",
              "       [1., 0., 0.],\n",
              "       [0., 0., 1.]], dtype=float32)"
            ]
          },
          "metadata": {},
          "execution_count": 35
        }
      ],
      "source": [
        "y_pred"
      ]
    },
    {
      "cell_type": "code",
      "execution_count": null,
      "metadata": {
        "id": "Pv9LayqD681f",
        "colab": {
          "base_uri": "https://localhost:8080/"
        },
        "outputId": "e4b3f4d0-24d8-47d3-c1c4-37ef3b79d93c"
      },
      "outputs": [
        {
          "output_type": "execute_result",
          "data": {
            "text/plain": [
              "array([[1., 0., 0.],\n",
              "       [1., 0., 0.],\n",
              "       [0., 0., 1.],\n",
              "       ...,\n",
              "       [1., 0., 0.],\n",
              "       [1., 0., 0.],\n",
              "       [0., 1., 0.]], dtype=float32)"
            ]
          },
          "metadata": {},
          "execution_count": 36
        }
      ],
      "source": [
        "y_test"
      ]
    },
    {
      "cell_type": "code",
      "execution_count": null,
      "metadata": {
        "id": "3EUopgmu2C5Y",
        "colab": {
          "base_uri": "https://localhost:8080/"
        },
        "outputId": "fa9d11fc-f08d-4bdc-d63f-63c08a7a5eee"
      },
      "outputs": [
        {
          "output_type": "stream",
          "name": "stdout",
          "text": [
            "[[1. 0. 0. 1. 0. 0.]\n",
            " [0. 0. 1. 1. 0. 0.]\n",
            " [0. 0. 1. 0. 0. 1.]\n",
            " ...\n",
            " [1. 0. 0. 1. 0. 0.]\n",
            " [1. 0. 0. 1. 0. 0.]\n",
            " [0. 0. 1. 0. 1. 0.]]\n"
          ]
        }
      ],
      "source": [
        "print(np.concatenate((y_pred, y_test), axis=1))"
      ]
    },
    {
      "cell_type": "markdown",
      "metadata": {
        "id": "etr0K0TZvDX1"
      },
      "source": [
        "\n",
        "accuracy score"
      ]
    },
    {
      "cell_type": "code",
      "execution_count": null,
      "metadata": {
        "id": "Pkm8JdZB3JhR"
      },
      "outputs": [],
      "source": [
        "y_pred=pd.DataFrame(y_pred)\n",
        "y_test=pd.DataFrame(y_test)"
      ]
    },
    {
      "cell_type": "code",
      "execution_count": null,
      "metadata": {
        "id": "NCUF_J7TvF1W",
        "colab": {
          "base_uri": "https://localhost:8080/"
        },
        "outputId": "aa716b39-2192-4bbd-a85e-44a28c850bce"
      },
      "outputs": [
        {
          "output_type": "execute_result",
          "data": {
            "text/plain": [
              "0.7505668934240363"
            ]
          },
          "metadata": {},
          "execution_count": 39
        }
      ],
      "source": [
        "from sklearn.metrics import accuracy_score\n",
        "accuracy_score(y_test, y_pred)"
      ]
    },
    {
      "cell_type": "code",
      "execution_count": null,
      "metadata": {
        "colab": {
          "base_uri": "https://localhost:8080/"
        },
        "id": "TzxJwsjlh1Gi",
        "outputId": "1639fca8-24e3-4694-cb86-17afd3f1ceb9"
      },
      "outputs": [
        {
          "output_type": "execute_result",
          "data": {
            "text/plain": [
              "['scaler.sav']"
            ]
          },
          "metadata": {},
          "execution_count": 40
        }
      ],
      "source": [
        "import joblib\n",
        "filename = 'ann4.h5'\n",
        "vrse.save('ann4.h5')\n",
        "joblib.dump(sc,'scaler.sav')"
      ]
    },
    {
      "cell_type": "code",
      "execution_count": null,
      "metadata": {
        "colab": {
          "base_uri": "https://localhost:8080/"
        },
        "id": "bX1oinAuFC_G",
        "outputId": "52b85f8c-116f-4ce9-844c-b4ea17671cc9"
      },
      "outputs": [
        {
          "output_type": "stream",
          "name": "stdout",
          "text": [
            "14/14 [==============================] - 0s 3ms/step\n",
            "0.7505668934240363\n"
          ]
        }
      ],
      "source": [
        "from tensorflow import keras\n",
        "loaded_model = keras.models.load_model('ann4.h5')\n",
        "result = (loaded_model.predict(X_test))\n",
        "for i in result:\n",
        "  i[i == max(i)] = 1\n",
        "  i[i<1] = 0\n",
        "print(accuracy_score(y_test, result))"
      ]
    },
    {
      "cell_type": "code",
      "execution_count": null,
      "metadata": {
        "colab": {
          "base_uri": "https://localhost:8080/"
        },
        "id": "viSLASVQysQC",
        "outputId": "3af2a0bd-5b27-435b-be85-32c5ec2e1e8c"
      },
      "outputs": [
        {
          "output_type": "stream",
          "name": "stdout",
          "text": [
            "1/1 [==============================] - 0s 25ms/step\n"
          ]
        },
        {
          "output_type": "execute_result",
          "data": {
            "text/plain": [
              "array([[0., 1., 0.]], dtype=float32)"
            ]
          },
          "metadata": {},
          "execution_count": 44
        }
      ],
      "source": [
        "# 12\t2\t12\t40\t1\t0.3\t52\t2022\tmedium\t\n",
        "scale_model = joblib.load('scaler.sav')\n",
        "\n",
        "a=12\n",
        "b=2\n",
        "c=12\n",
        "d=40\n",
        "e=1\n",
        "f=0.3\n",
        "g=52\n",
        "k=2022\n",
        "h=0\n",
        "i=0\n",
        "j=1\n",
        "\n",
        "\n",
        "\n",
        "arr=np.array([[h,i,j,a,b,c,d,e,f,g,k]])\n",
        "arr = scale_model.transform(arr)\n",
        "arr = vrse.predict(arr)\n",
        "for i in arr:\n",
        "  i[i == max(i)] = 1\n",
        "  i[i<1] = 0\n",
        "arr"
      ]
    },
    {
      "cell_type": "markdown",
      "metadata": {
        "id": "8mjoTZskh0tm"
      },
      "source": []
    }
  ],
  "metadata": {
    "colab": {
      "provenance": []
    },
    "kernelspec": {
      "display_name": "Python 3",
      "name": "python3"
    },
    "language_info": {
      "name": "python"
    }
  },
  "nbformat": 4,
  "nbformat_minor": 0
}